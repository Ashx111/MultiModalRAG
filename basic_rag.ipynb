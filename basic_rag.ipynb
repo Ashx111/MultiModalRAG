{
 "cells": [
  {
   "cell_type": "code",
   "execution_count": null,
   "id": "cb269256-d611-4167-912e-d3ce3808eb49",
   "metadata": {},
   "outputs": [],
   "source": [
    "\n",
    "%pip install -U langchain-community\n",
    "%pip install --quiet sentence-transformers\n",
    "%pip install -U langchain-huggingface\n",
    "%pip install pypdf"
   ]
  },
  {
   "cell_type": "code",
   "execution_count": 3,
   "id": "98b0244f-5f56-4ae3-a7ca-c7dc269a7f49",
   "metadata": {},
   "outputs": [],
   "source": [
    "from langchain.document_loaders import PyPDFLoader\n",
    "from langchain.text_splitter import CharacterTextSplitter\n",
    "from langchain.embeddings import HuggingFaceEmbeddings\n",
    "from langchain.vectorstores import FAISS\n",
    "from langchain.chains import RetrievalQA"
   ]
  },
  {
   "cell_type": "code",
   "execution_count": 4,
   "id": "7abf7624-18df-44af-85f1-be57e6b364fe",
   "metadata": {},
   "outputs": [],
   "source": [
    "# from langchain_community.document_loaders import PyPDFDirectoryLoader\n",
    "# pdf_loader = PyPDFDirectoryLoader(\"./Data\" )\n",
    "# pages_dir = pdf_loader.load()\n",
    "# print(len(pages_dir))"
   ]
  },
  {
   "cell_type": "code",
   "execution_count": null,
   "id": "dbf9bbf5-5496-40a0-b0c4-01e2b2377829",
   "metadata": {},
   "outputs": [],
   "source": [
    "loader = PyPDFLoader(\"./Ashirvad_Resume.pdf\")\n",
    "documents = loader.load()\n",
    "print((documents))"
   ]
  },
  {
   "cell_type": "code",
   "execution_count": 8,
   "id": "34ac0ed3-e847-4a67-a5e3-90dc2fda3ec2",
   "metadata": {},
   "outputs": [],
   "source": [
    "#Splitting the data into chunk\n",
    "text_splitter = CharacterTextSplitter(chunk_size=1000, chunk_overlap=30, separator=\"\\n\")\n",
    "docs = text_splitter.split_documents(documents=documents)"
   ]
  },
  {
   "cell_type": "code",
   "execution_count": null,
   "id": "fe1cac1d-659d-45ae-bcb0-cd386ba90c42",
   "metadata": {},
   "outputs": [],
   "source": [
    "#loading the embedding model from huggingface\n",
    "embedding_model_name = \"sentence-transformers/all-MiniLM-L6-v2\"\n",
    "model_kwargs = {\"device\": \"cpu\"}\n",
    "embeddings = HuggingFaceEmbeddings(\n",
    "  model_name=embedding_model_name,\n",
    "  model_kwargs=model_kwargs\n",
    ")"
   ]
  },
  {
   "cell_type": "code",
   "execution_count": 35,
   "id": "153b43dd-4a77-48a6-827a-87fafc49a537",
   "metadata": {},
   "outputs": [],
   "source": [
    "# Create the vector store\n",
    "vectorstore = FAISS.from_documents(docs, embeddings)"
   ]
  },
  {
   "cell_type": "code",
   "execution_count": 37,
   "id": "bbf70ab7-f14a-46e6-8f38-41e3178ea99d",
   "metadata": {},
   "outputs": [],
   "source": [
    "# Save the vector store locally\n",
    "vectorstore.save_local(\"faiss_index_\")"
   ]
  },
  {
   "cell_type": "code",
   "execution_count": null,
   "id": "59c632d4-3257-4fd8-82bb-b0e15b29a1c3",
   "metadata": {},
   "outputs": [],
   "source": [
    "# Load Stored Vector\n",
    "persisted_vectorstore = FAISS.load_local(\"faiss_index_\", embeddings, allow_dangerous_deserialization=True)"
   ]
  },
  {
   "cell_type": "code",
   "execution_count": 13,
   "id": "76ec20b2-65aa-4f4c-baa4-fb4e14d123a4",
   "metadata": {},
   "outputs": [],
   "source": [
    "#creating a retriever on top of database\n",
    "retriever = persisted_vectorstore.as_retriever()"
   ]
  },
  {
   "cell_type": "code",
   "execution_count": 15,
   "id": "ea243720-6f52-4b13-ba4c-d6908319e6a1",
   "metadata": {},
   "outputs": [],
   "source": [
    "from langchain_ollama import OllamaLLM\n",
    "from langchain.prompts import PromptTemplate"
   ]
  },
  {
   "cell_type": "code",
   "execution_count": 17,
   "id": "2175941e-07e4-4ca9-a658-f745e9df8e13",
   "metadata": {},
   "outputs": [],
   "source": [
    "# Initialize the Llama 3.1 model\n",
    "llm = OllamaLLM(model=\"llama3.1\")"
   ]
  },
  {
   "cell_type": "code",
   "execution_count": 19,
   "id": "d3506128-5c06-4015-a88c-740efe2da486",
   "metadata": {},
   "outputs": [],
   "source": [
    " #Use RetrievalQA chain for orchestration\n",
    "qa = RetrievalQA.from_chain_type(llm=llm, chain_type=\"stuff\", retriever=retriever)"
   ]
  },
  {
   "cell_type": "code",
   "execution_count": null,
   "id": "4e837cb9-3422-4a46-97b9-a9bacef7805e",
   "metadata": {},
   "outputs": [],
   "source": [
    "query = \"Who is Ashirvad Singh?\"\n",
    "qa.run(query)"
   ]
  }
 ],
 "metadata": {
  "kernelspec": {
   "display_name": "Python 3 (ipykernel)",
   "language": "python",
   "name": "python3"
  },
  "language_info": {
   "codemirror_mode": {
    "name": "ipython",
    "version": 3
   },
   "file_extension": ".py",
   "mimetype": "text/x-python",
   "name": "python",
   "nbconvert_exporter": "python",
   "pygments_lexer": "ipython3",
   "version": "3.12.3"
  }
 },
 "nbformat": 4,
 "nbformat_minor": 5
}
